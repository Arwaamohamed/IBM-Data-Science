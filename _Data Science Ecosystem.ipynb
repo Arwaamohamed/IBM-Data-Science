{
 "cells": [
  {
   "cell_type": "markdown",
   "id": "6e77dd53",
   "metadata": {},
   "source": [
    "# Data Science Tools and Ecosystem"
   ]
  },
  {
   "cell_type": "markdown",
   "id": "af649f6b",
   "metadata": {},
   "source": [
    "# In this notebook, Data Science Tools and Ecosystem are summarized."
   ]
  },
  {
   "cell_type": "markdown",
   "id": "ba02268c",
   "metadata": {},
   "source": [
    "### **Objectives:**\n",
    "- List popular languages for Data Science\n",
    "- List important libiraries for Data Science\n",
    "- Create first notebook"
   ]
  },
  {
   "cell_type": "markdown",
   "id": "decbb2e9",
   "metadata": {},
   "source": [
    "Some of the popular languages that Data Scientists use are:\n",
    "1. Python \n",
    "2. R \n",
    "3. Java \n"
   ]
  },
  {
   "cell_type": "markdown",
   "id": "4cf7cd9e",
   "metadata": {},
   "source": [
    "Some of the commonly used libraries used by Data Scientists include:\n",
    "1. Pandas \n",
    "2. Numpy \n",
    "3. Scikitlearn \n"
   ]
  },
  {
   "cell_type": "markdown",
   "id": "f9333ed0",
   "metadata": {},
   "source": [
    "| Data Science Tools |\n",
    "|:------------------:|\n",
    "| IBM SPSS|\n",
    "|MS Power BI|\n",
    "|MYSQL|"
   ]
  },
  {
   "cell_type": "markdown",
   "id": "f4e8c4d6",
   "metadata": {},
   "source": [
    "### Below are a few examples of evaluating arithmetic expressions in Python\n",
    "\n",
    "\n"
   ]
  },
  {
   "cell_type": "code",
   "execution_count": 3,
   "id": "7c9ab371",
   "metadata": {},
   "outputs": [
    {
     "data": {
      "text/plain": [
       "17"
      ]
     },
     "execution_count": 3,
     "metadata": {},
     "output_type": "execute_result"
    }
   ],
   "source": [
    "(3*4)+5 #This a simple arithmetic expression to mutiply then add integers"
   ]
  },
  {
   "cell_type": "code",
   "execution_count": 4,
   "id": "213dfdfa",
   "metadata": {},
   "outputs": [
    {
     "name": "stdout",
     "output_type": "stream",
     "text": [
      "3.3333333333333335\n"
     ]
    }
   ],
   "source": [
    "#This will convert 200 minutes to hours by diving by 60\n",
    "Minutes=200\n",
    "Hours = Minutes/60\n",
    "print(Hours)\n"
   ]
  },
  {
   "cell_type": "markdown",
   "id": "84a2e399",
   "metadata": {},
   "source": [
    "## Author: \n",
    "Arwa Mohamed"
   ]
  },
  {
   "cell_type": "code",
   "execution_count": null,
   "id": "c2f32356",
   "metadata": {},
   "outputs": [],
   "source": []
  }
 ],
 "metadata": {
  "kernelspec": {
   "display_name": "Python 3 (ipykernel)",
   "language": "python",
   "name": "python3"
  },
  "language_info": {
   "codemirror_mode": {
    "name": "ipython",
    "version": 3
   },
   "file_extension": ".py",
   "mimetype": "text/x-python",
   "name": "python",
   "nbconvert_exporter": "python",
   "pygments_lexer": "ipython3",
   "version": "3.9.13"
  }
 },
 "nbformat": 4,
 "nbformat_minor": 5
}
